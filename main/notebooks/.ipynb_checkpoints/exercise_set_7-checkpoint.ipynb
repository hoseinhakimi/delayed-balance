{
 "cells": [
  {
   "cell_type": "markdown",
   "metadata": {
    "ExecuteTime": {
     "end_time": "2020-02-19T22:17:57.973440Z",
     "start_time": "2020-02-19T22:17:57.962086Z"
    },
    "deletable": false,
    "editable": false
   },
   "source": [
    "<div>\n",
    "    <b>\n",
    "        <font size=\"+1\">\n",
    "            Introduction to Numerical Simulation\n",
    "        </font>\n",
    "    </b>\n",
    "    <br>\n",
    "    <br>\n",
    "    Shahid Beheshti University, Physics Department\n",
    "</div>"
   ]
  },
  {
   "cell_type": "markdown",
   "metadata": {
    "ExecuteTime": {
     "end_time": "2020-02-19T22:19:00.590623Z",
     "start_time": "2020-02-19T22:19:00.581327Z"
    },
    "deletable": false,
    "editable": false
   },
   "source": [
    "<div>\n",
    "    <b>\n",
    "        <br>\n",
    "        <font size=\"+2\">\n",
    "            Exercise set 6\n",
    "        </font>\n",
    "    </b>\n",
    "</div>   \n"
   ]
  },
  {
   "cell_type": "markdown",
   "metadata": {
    "deletable": false
   },
   "source": [
    "<div class=\"alert alert-block alert-success\">\n",
    "    <p style=\"text-align:justify\">1. Consider the least-squares approximation of a discrete function ${f(x_i)}$ for ${i = 0,1,...,n}$ with the polynomial</p>\n",
    "    <p>${p_m(}$</p>\n",
    "</div>\n",
    "</div>"
   ]
  },
  {
   "cell_type": "code",
   "execution_count": null,
   "metadata": {},
   "outputs": [],
   "source": []
  },
  {
   "cell_type": "markdown",
   "metadata": {
    "deletable": false,
    "editable": false
   },
   "source": [
    "<div class=\"alert alert-block alert-success\">\n",
    "    <p>2. The Lorenz model is used to study climate change and is given by\n",
    "</p>\n",
    "    <p style=\"text-align:center\">${\\frac{dy_1}{dt}=a(y_2-y_1)}$,</p>\n",
    "    <p style=\"text-align:center\">${\\frac{dy_2}{dt}=(b-y_3)y_1-y_2}$,</p>\n",
    "    <p style=\"text-align:center\">${\\frac{dy_3}{dt}=y_1y_2-cy_3}$,</p>\n",
    "    <p>where $a,b,$ and $c$ are positive parameters in the model. Solve this model numerically and find the parameter region in which the system is chaotic. (4.8)</p>\n",
    "</div>\n",
    "</div>"
   ]
  },
  {
   "cell_type": "code",
   "execution_count": null,
   "metadata": {},
   "outputs": [],
   "source": []
  },
  {
   "cell_type": "markdown",
   "metadata": {
    "deletable": false,
    "editable": false
   },
   "source": [
    "<div class=\"alert alert-block alert-success\">\n",
    "    <b>(Optional)</b>\n",
    "    <p>3. Consider three objects in the solar system, the Sun, the Earth, and Mars. Find the modification of the next period of Earth due to the appearance of Mars starting at the beginning of January 1, 2006. (4.9)</p>\n",
    "</div>\n",
    "</div>"
   ]
  },
  {
   "cell_type": "code",
   "execution_count": null,
   "metadata": {},
   "outputs": [],
   "source": []
  }
 ],
 "metadata": {
  "celltoolbar": "Edit Metadata",
  "kernelspec": {
   "display_name": "Python 3",
   "language": "python",
   "name": "python3"
  },
  "language_info": {
   "codemirror_mode": {
    "name": "ipython",
    "version": 3
   },
   "file_extension": ".py",
   "mimetype": "text/x-python",
   "name": "python",
   "nbconvert_exporter": "python",
   "pygments_lexer": "ipython3",
   "version": "3.8.3"
  },
  "latex_envs": {
   "LaTeX_envs_menu_present": true,
   "autoclose": false,
   "autocomplete": true,
   "bibliofile": "biblio.bib",
   "cite_by": "apalike",
   "current_citInitial": 1,
   "eqLabelWithNumbers": true,
   "eqNumInitial": 1,
   "hotkeys": {
    "equation": "Ctrl-E",
    "itemize": "Ctrl-I"
   },
   "labels_anchors": false,
   "latex_user_defs": false,
   "report_style_numbering": false,
   "user_envs_cfg": false
  },
  "toc": {
   "base_numbering": 1,
   "nav_menu": {},
   "number_sections": true,
   "sideBar": true,
   "skip_h1_title": false,
   "title_cell": "Table of Contents",
   "title_sidebar": "Contents",
   "toc_cell": false,
   "toc_position": {},
   "toc_section_display": true,
   "toc_window_display": false
  },
  "varInspector": {
   "cols": {
    "lenName": 16,
    "lenType": 16,
    "lenVar": 40
   },
   "kernels_config": {
    "python": {
     "delete_cmd_postfix": "",
     "delete_cmd_prefix": "del ",
     "library": "var_list.py",
     "varRefreshCmd": "print(var_dic_list())"
    },
    "r": {
     "delete_cmd_postfix": ") ",
     "delete_cmd_prefix": "rm(",
     "library": "var_list.r",
     "varRefreshCmd": "cat(var_dic_list()) "
    }
   },
   "types_to_exclude": [
    "module",
    "function",
    "builtin_function_or_method",
    "instance",
    "_Feature"
   ],
   "window_display": false
  }
 },
 "nbformat": 4,
 "nbformat_minor": 2
}
