{
 "cells": [
  {
   "cell_type": "code",
   "execution_count": null,
   "metadata": {},
   "outputs": [],
   "source": [
    "import numpy as np\n",
    "import matplotlib.pyplot as plt\n",
    "import pandas as pd\n",
    "from itertools import combinations, permutations\n",
    "from scipy import sparse"
   ]
  },
  {
   "cell_type": "code",
   "execution_count": null,
   "metadata": {},
   "outputs": [],
   "source": [
    "class mixed_heider:\n",
    "    def set_system(self, nodes_count, enmity_ratio, delay, d_sign):\n",
    "        self.nc, self.er, self.delay, self.d_sign = (nodes_count, enmity_ratio,\n",
    "                                                     delay, d_sign)\n",
    "        self.initiate()\n",
    "\n",
    "    def initiate(self):\n",
    "        self.create_network()\n",
    "        self.total_tri_energy()\n",
    "\n",
    "    def create_network(self):\n",
    "        links = np.array(list(combinations(np.arange(self.nc), 2)))\n",
    "\n",
    "        self.lc = len(links)\n",
    "        signs = np.random.choice(a=[-1, 1],\n",
    "                                 size=self.lc,\n",
    "                                 p=[self.er, 1 - self.er])\n",
    "        adj = sparse.coo_matrix((signs, (links[:, 0], links[:, 1])),\n",
    "                                (self.nc, self.nc)).toarray()\n",
    "        self.adj_mat = adj + adj.T\n",
    "\n",
    "    def cal_rows(self, a):\n",
    "        e = self.adj_mat[a[0], a[1]] * self.adj_mat[a[1], a[2]] * self.adj_mat[\n",
    "            a[2], a[0]] * self.d_sign\n",
    "        val = 0 if e == 1 else -self.delay\n",
    "        return val\n",
    "\n",
    "    def total_tri_energy(self):\n",
    "        self.tc = len(list(combinations(np.arange(self.nc), 3)))\n",
    "        tri_combinations = np.array(list(combinations(np.arange(self.nc), 3)))\n",
    "        timess = np.apply_along_axis(self.cal_rows, 1, tri_combinations)\n",
    "        self.state_array = np.c_[tri_combinations, timess]\n",
    "        energy_part = np.matmul(self.adj_mat, self.adj_mat)\n",
    "        energy_mat = np.multiply(self.adj_mat, energy_part)\n",
    "        self.tri_energy = -np.sum(energy_mat) / 6\n",
    "\n",
    "    def permute_nodes(self, array):\n",
    "        return np.array(list(permutations(array, 3))[:3])\n",
    "\n",
    "    # dynamic\n",
    "    def balanceTimer(self, link, time):\n",
    "        for tri in self.state_array:\n",
    "            sign = \\\n",
    "            self.adj_mat[tri[0],tri[1]] * \\\n",
    "            self.adj_mat[tri[0], tri[2]] * \\\n",
    "            self.adj_mat[tri[1], tri[2]]\n",
    "            if sign == self.d_sign:\n",
    "                tri[3] =time\n",
    "#         indices = list(range(self.nc))\n",
    "#         indices.remove(link[1])\n",
    "#         indices.remove(link[0])\n",
    "#         for i in indices:\n",
    "#             sign = \\\n",
    "#             self.adj_mat[link[0],link[1]] * \\\n",
    "#             self.adj_mat[link[0], i] * \\\n",
    "#             self.adj_mat[i, link[1]]\n",
    "#             if sign == self.d_sign:\n",
    "#                 dd = [link[0], link[1], i]\n",
    "#                 dd.sort()\n",
    "#                 row = np.argwhere(\n",
    "#                     (self.state_array[:, :-1] == dd).all(axis=1))[0][0]\n",
    "#                 self.state_array[row, 3] = time\n",
    "\n",
    "    def checker(self, link, time):\n",
    "        linkEnergy = 0\n",
    "        indices = list(range(self.nc))\n",
    "        indices.remove(link[1])\n",
    "        indices.remove(link[0])\n",
    "        for i in indices:\n",
    "            dd = [link[0], link[1], i]\n",
    "            dd.sort()\n",
    "            row = np.argwhere(\n",
    "                (self.state_array[:, :-1] == dd).all(axis=1))[0][0]\n",
    "            if (time - self.state_array[row, 3] <= self.delay):\n",
    "                linkEnergy -= 1 * self.d_sign\n",
    "            else:\n",
    "                linkEnergy += 1 * self.d_sign\n",
    "        return linkEnergy\n",
    "\n",
    "    def flipper(self, time):\n",
    "        link = np.random.choice(range(self.nc), 2, replace=False)\n",
    "        tri_energy_m = -np.inner(\n",
    "            self.adj_mat[:, link[0]],\n",
    "            self.adj_mat[:, link[1]]) * self.adj_mat[link[0], link[1]]\n",
    "        tri_energy = self.checker(link, time)\n",
    "        delta_E = tri_energy\n",
    "        new_sgn = -np.sign(delta_E)\n",
    "        decision_factor = new_sgn - 1\n",
    "        self.adj_mat[link[0],link[1]] = self.adj_mat[link[1],link[0]] = \\\n",
    "                        new_sgn * self.adj_mat[link[0],link[1]]\n",
    "        self.balanceTimer(link, time)\n",
    "        self.tri_energy += decision_factor * tri_energy_m"
   ]
  }
 ],
 "metadata": {
  "kernelspec": {
   "display_name": "Python 3",
   "language": "python",
   "name": "python3"
  },
  "language_info": {
   "codemirror_mode": {
    "name": "ipython",
    "version": 3
   },
   "file_extension": ".py",
   "mimetype": "text/x-python",
   "name": "python",
   "nbconvert_exporter": "python",
   "pygments_lexer": "ipython3",
   "version": "3.8.3"
  },
  "varInspector": {
   "cols": {
    "lenName": 16,
    "lenType": 16,
    "lenVar": 40
   },
   "kernels_config": {
    "python": {
     "delete_cmd_postfix": "",
     "delete_cmd_prefix": "del ",
     "library": "var_list.py",
     "varRefreshCmd": "print(var_dic_list())"
    },
    "r": {
     "delete_cmd_postfix": ") ",
     "delete_cmd_prefix": "rm(",
     "library": "var_list.r",
     "varRefreshCmd": "cat(var_dic_list()) "
    }
   },
   "types_to_exclude": [
    "module",
    "function",
    "builtin_function_or_method",
    "instance",
    "_Feature"
   ],
   "window_display": false
  }
 },
 "nbformat": 4,
 "nbformat_minor": 4
}
